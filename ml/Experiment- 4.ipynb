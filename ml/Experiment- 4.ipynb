{
 "cells": [
  {
   "cell_type": "code",
   "execution_count": 1,
   "id": "9a8c7f47",
   "metadata": {},
   "outputs": [
    {
     "name": "stdout",
     "output_type": "stream",
     "text": [
      "Iteration 0:[None]\n",
      "Iteration 1:['>=9' 'Yes' 'Excellent' 'Good' 'Fast' 'Yes']\n",
      "Iteration 2:['>=9' 'Yes' '?' 'Good' 'Fast' 'Yes']\n",
      "Iteration 3:['>=9' 'Yes' '?' 'Good' 'Fast' 'Yes']\n",
      "Iteration 4:['>=9' 'Yes' '?' 'Good' '?' '?']\n"
     ]
    }
   ],
   "source": [
    "import numpy as np\n",
    "import pandas as pd\n",
    "df=pd.read_csv(\"Book1.csv\")\n",
    "count=0\n",
    "features=np.array(df)[:,:-1]\n",
    "target=np.array(df)[:,-1]\n",
    "hypothesis=[None]\n",
    "print(f\"Iteration {count}:{hypothesis}\")\n",
    "#print(target)\n",
    "#nprint(features)\n",
    "#keep the copy of  1st +ve Target class\n",
    "for i,val in enumerate(target):\n",
    "    if val==\"Yes\":\n",
    "        hypothesis=features[i]\n",
    "        count+=1\n",
    "        break\n",
    "for i,val in enumerate(features):\n",
    "    if target[i]==\"Yes\":\n",
    "        for x in range(len(hypothesis)):\n",
    "            if val[x]!=hypothesis[x]:\n",
    "                hypothesis[x]='?'\n",
    "        print(f\"Iteration {count}:{hypothesis}\")\n",
    "        count+=1\n",
    "    else:\n",
    "        print(f\"Iteration {count}:{hypothesis}\")\n",
    "        count+=1"
   ]
  }
 ],
 "metadata": {
  "kernelspec": {
   "display_name": "Python [conda env:base] *",
   "language": "python",
   "name": "conda-base-py"
  },
  "language_info": {
   "codemirror_mode": {
    "name": "ipython",
    "version": 3
   },
   "file_extension": ".py",
   "mimetype": "text/x-python",
   "name": "python",
   "nbconvert_exporter": "python",
   "pygments_lexer": "ipython3",
   "version": "3.12.7"
  }
 },
 "nbformat": 4,
 "nbformat_minor": 5
}
