{
 "cells": [
  {
   "cell_type": "code",
   "execution_count": 1,
   "id": "bdd35913",
   "metadata": {},
   "outputs": [
    {
     "name": "stdout",
     "output_type": "stream",
     "text": [
      "\n"
     ]
    }
   ],
   "source": [
    "print()"
   ]
  },
  {
   "cell_type": "code",
   "execution_count": 2,
   "id": "3548eb74",
   "metadata": {},
   "outputs": [
    {
     "name": "stdout",
     "output_type": "stream",
     "text": [
      "Hello\n"
     ]
    }
   ],
   "source": [
    "print(\"Hello\")"
   ]
  },
  {
   "cell_type": "code",
   "execution_count": 4,
   "id": "6c73fbb6",
   "metadata": {},
   "outputs": [
    {
     "name": "stdout",
     "output_type": "stream",
     "text": [
      "hello 1\n"
     ]
    }
   ],
   "source": [
    "print(\"hello\",1)"
   ]
  },
  {
   "cell_type": "code",
   "execution_count": 5,
   "id": "6ec28219",
   "metadata": {},
   "outputs": [
    {
     "name": "stdout",
     "output_type": "stream",
     "text": [
      "Hello, World!\n"
     ]
    }
   ],
   "source": [
    "print(\"Hello, World!\")"
   ]
  },
  {
   "cell_type": "code",
   "execution_count": 6,
   "id": "dbb378ab",
   "metadata": {},
   "outputs": [
    {
     "name": "stdout",
     "output_type": "stream",
     "text": [
      "hellohello\n"
     ]
    }
   ],
   "source": [
    "x=\"hello\"\n",
    "print(\"hello\"+x)"
   ]
  },
  {
   "cell_type": "code",
   "execution_count": 7,
   "id": "2c767ff6",
   "metadata": {},
   "outputs": [
    {
     "name": "stdout",
     "output_type": "stream",
     "text": [
      "hello hello\n"
     ]
    }
   ],
   "source": [
    "print(\"hello\",x)"
   ]
  },
  {
   "cell_type": "code",
   "execution_count": 11,
   "id": "a3b93742",
   "metadata": {},
   "outputs": [
    {
     "name": "stdout",
     "output_type": "stream",
     "text": [
      "i am good\n",
      "I am good\n"
     ]
    }
   ],
   "source": [
    "x=\"i am good\"\n",
    "y=x.capitalize()\n",
    "print(x)\n",
    "print(y)"
   ]
  },
  {
   "cell_type": "code",
   "execution_count": 14,
   "id": "00b98e58",
   "metadata": {},
   "outputs": [
    {
     "name": "stdout",
     "output_type": "stream",
     "text": [
      "Enter the number:45\n",
      "Hello\n"
     ]
    }
   ],
   "source": [
    "a=int(input(\"Enter the number:\"))\n",
    "if a%5==0:\n",
    "    print(\"Hello\")\n",
    "else:\n",
    "    print(\"Bye\")"
   ]
  },
  {
   "cell_type": "code",
   "execution_count": 29,
   "id": "133dec81",
   "metadata": {},
   "outputs": [
    {
     "name": "stdout",
     "output_type": "stream",
     "text": [
      "Enter the number:350\n",
      "2000\n"
     ]
    }
   ],
   "source": [
    "a=int(input(\"Enter the number:\"))\n",
    "amt=0\n",
    "if a<=100:\n",
    "    amt=0\n",
    "elif a>100 and a<=200:\n",
    "    amt=(a-100)*5\n",
    "else:\n",
    "    amt=500+(a-200)*10\n",
    "print(amt)"
   ]
  },
  {
   "cell_type": "code",
   "execution_count": null,
   "id": "244b2235",
   "metadata": {},
   "outputs": [],
   "source": [
    "a=int(input(\"Enter the number 1:\"))\n",
    "b=int(input(\"Enter the number 2:\"))\n",
    "c=int(input(\"Enter the number 3:\"))\n",
    "print(\"Largest Number is:\")\n",
    "if a>b:\n",
    "    if c>a:\n",
    "        print(c)\n",
    "    else:\n",
    "        print(a)\n",
    "else:\n",
    "    if c>b:\n",
    "        print(c)\n",
    "    else:\n",
    "        print(b)"
   ]
  },
  {
   "cell_type": "code",
   "execution_count": null,
   "id": "d993572e",
   "metadata": {},
   "outputs": [],
   "source": []
  },
  {
   "cell_type": "code",
   "execution_count": null,
   "id": "8254c78e",
   "metadata": {},
   "outputs": [],
   "source": []
  },
  {
   "cell_type": "code",
   "execution_count": null,
   "id": "09c4051b",
   "metadata": {},
   "outputs": [],
   "source": []
  },
  {
   "cell_type": "code",
   "execution_count": null,
   "id": "8641db3b",
   "metadata": {},
   "outputs": [],
   "source": []
  },
  {
   "cell_type": "code",
   "execution_count": 2,
   "id": "7ffa5b36",
   "metadata": {},
   "outputs": [
    {
     "name": "stdout",
     "output_type": "stream",
     "text": [
      "Enter the number:12\n",
      "Enter the number:13\n",
      "Enter the number:11\n",
      "Largest Number is:\n",
      "13\n"
     ]
    }
   ],
   "source": [
    "a=int(input(\"Enter the number:\"))\n",
    "b=int(input(\"Enter the number:\"))\n",
    "c=int(input(\"Enter the number:\"))\n",
    "print(\"Largest Number is:\")\n",
    "if a>b:\n",
    "    if c>a:\n",
    "        print(c)\n",
    "    else:\n",
    "        print(a)\n",
    "else:\n",
    "    if c>b:\n",
    "        print(c)\n",
    "    else:\n",
    "        print(b)"
   ]
  },
  {
   "cell_type": "code",
   "execution_count": 1,
   "id": "c563ee9a",
   "metadata": {},
   "outputs": [
    {
     "name": "stdout",
     "output_type": "stream",
     "text": [
      "Enter the number11\n",
      "1\n",
      "2\n",
      "3\n",
      "4\n",
      "5\n",
      "6\n",
      "7\n",
      "8\n",
      "9\n",
      "10\n"
     ]
    }
   ],
   "source": [
    "#natural numbers\n",
    "num=int(input(\"Enter the number\"))\n",
    "for i in range(1,num):\n",
    "    print(i)"
   ]
  },
  {
   "cell_type": "code",
   "execution_count": 4,
   "id": "0ddc5392",
   "metadata": {},
   "outputs": [
    {
     "name": "stdout",
     "output_type": "stream",
     "text": [
      "Enter the number:22\n",
      "0\n",
      "2\n",
      "4\n",
      "6\n",
      "8\n",
      "10\n",
      "12\n",
      "14\n",
      "16\n",
      "18\n",
      "20\n",
      "22\n"
     ]
    }
   ],
   "source": [
    "#even numbers\n",
    "num=int(input(\"Enter the number:\"))\n",
    "for i in range(0,num+1):\n",
    "    if i%2==0:\n",
    "        print(i)"
   ]
  },
  {
   "cell_type": "code",
   "execution_count": 6,
   "id": "1dfb15cc",
   "metadata": {},
   "outputs": [
    {
     "name": "stdout",
     "output_type": "stream",
     "text": [
      "Enter the numbers:3\n",
      "6\n"
     ]
    }
   ],
   "source": [
    "#sum of numbers\n",
    "num=int(input(\"Enter the numbers:\"))\n",
    "sum=0\n",
    "for i in range(0,num+1):\n",
    "    sum=sum+i\n",
    "print(sum)"
   ]
  },
  {
   "cell_type": "code",
   "execution_count": 19,
   "id": "90ead7b4",
   "metadata": {},
   "outputs": [
    {
     "name": "stdout",
     "output_type": "stream",
     "text": [
      "Enter the string:python\n",
      "p\n",
      "y\n",
      "t\n",
      "h\n",
      "o\n",
      "n\n"
     ]
    }
   ],
   "source": [
    "#read of complete string and display as a single character\n",
    "a=input(\"Enter the string:\")\n",
    "for i in a:\n",
    "    print(i)"
   ]
  },
  {
   "cell_type": "code",
   "execution_count": 29,
   "id": "bd19d749",
   "metadata": {},
   "outputs": [
    {
     "name": "stdout",
     "output_type": "stream",
     "text": [
      "four\n",
      "two\n"
     ]
    }
   ],
   "source": [
    "dictionary={1:\"one\",2:\"two\",3:\"three\",4:\"four\",5:\"five\"}\n",
    "l1=[3,56,77]\n",
    "l2=[45,231,354]\n",
    "sum=0\n",
    "odd=0\n",
    "even=0\n",
    "for i in l1:\n",
    "    if i%2==0:\n",
    "        even=even+1\n",
    "    else:\n",
    "        odd=odd+1\n",
    "for i in l2:\n",
    "    if i%2==0:\n",
    "        even=even+1\n",
    "    else:\n",
    "        odd=odd+1\n",
    "if odd in dictionary:\n",
    "    print(dictionary[odd])\n",
    "if even in dictionary:\n",
    "    print(dictionary[even])"
   ]
  },
  {
   "cell_type": "code",
   "execution_count": null,
   "id": "4feff1da",
   "metadata": {},
   "outputs": [],
   "source": []
  }
 ],
 "metadata": {
  "kernelspec": {
   "display_name": "Python 3 (ipykernel)",
   "language": "python",
   "name": "python3"
  },
  "language_info": {
   "codemirror_mode": {
    "name": "ipython",
    "version": 3
   },
   "file_extension": ".py",
   "mimetype": "text/x-python",
   "name": "python",
   "nbconvert_exporter": "python",
   "pygments_lexer": "ipython3",
   "version": "3.9.12"
  }
 },
 "nbformat": 4,
 "nbformat_minor": 5
}
