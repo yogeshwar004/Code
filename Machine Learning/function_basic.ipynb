{
 "cells": [
  {
   "cell_type": "code",
   "execution_count": 22,
   "id": "b460b81e",
   "metadata": {},
   "outputs": [
    {
     "data": {
      "text/html": [
       "<div>\n",
       "<style scoped>\n",
       "    .dataframe tbody tr th:only-of-type {\n",
       "        vertical-align: middle;\n",
       "    }\n",
       "\n",
       "    .dataframe tbody tr th {\n",
       "        vertical-align: top;\n",
       "    }\n",
       "\n",
       "    .dataframe thead th {\n",
       "        text-align: right;\n",
       "    }\n",
       "</style>\n",
       "<table border=\"1\" class=\"dataframe\">\n",
       "  <thead>\n",
       "    <tr style=\"text-align: right;\">\n",
       "      <th></th>\n",
       "      <th>id</th>\n",
       "      <th>first</th>\n",
       "      <th>last</th>\n",
       "      <th>gender</th>\n",
       "      <th>Marks</th>\n",
       "      <th>selected</th>\n",
       "    </tr>\n",
       "  </thead>\n",
       "  <tbody>\n",
       "    <tr>\n",
       "      <th>0</th>\n",
       "      <td>1</td>\n",
       "      <td>Leone</td>\n",
       "      <td>Debrick</td>\n",
       "      <td>Female</td>\n",
       "      <td>50</td>\n",
       "      <td>True</td>\n",
       "    </tr>\n",
       "    <tr>\n",
       "      <th>1</th>\n",
       "      <td>2</td>\n",
       "      <td>Romola</td>\n",
       "      <td>Phinnessy</td>\n",
       "      <td>Female</td>\n",
       "      <td>60</td>\n",
       "      <td>False</td>\n",
       "    </tr>\n",
       "    <tr>\n",
       "      <th>2</th>\n",
       "      <td>3</td>\n",
       "      <td>Geri</td>\n",
       "      <td>Prium</td>\n",
       "      <td>Male</td>\n",
       "      <td>65</td>\n",
       "      <td>False</td>\n",
       "    </tr>\n",
       "    <tr>\n",
       "      <th>3</th>\n",
       "      <td>4</td>\n",
       "      <td>Sandy</td>\n",
       "      <td>Doveston</td>\n",
       "      <td>Female</td>\n",
       "      <td>95</td>\n",
       "      <td>False</td>\n",
       "    </tr>\n",
       "    <tr>\n",
       "      <th>4</th>\n",
       "      <td>5</td>\n",
       "      <td>Jacenta</td>\n",
       "      <td>Jansik</td>\n",
       "      <td>Female</td>\n",
       "      <td>31</td>\n",
       "      <td>True</td>\n",
       "    </tr>\n",
       "    <tr>\n",
       "      <th>5</th>\n",
       "      <td>6</td>\n",
       "      <td>Diane mar</td>\n",
       "      <td>Medhurst</td>\n",
       "      <td>Female</td>\n",
       "      <td>46</td>\n",
       "      <td>True</td>\n",
       "    </tr>\n",
       "    <tr>\n",
       "      <th>6</th>\n",
       "      <td>7</td>\n",
       "      <td>Austen</td>\n",
       "      <td>Pool</td>\n",
       "      <td>Male</td>\n",
       "      <td>45</td>\n",
       "      <td>True</td>\n",
       "    </tr>\n",
       "    <tr>\n",
       "      <th>7</th>\n",
       "      <td>8</td>\n",
       "      <td>Vanya</td>\n",
       "      <td>Teffrey</td>\n",
       "      <td>Male</td>\n",
       "      <td>70</td>\n",
       "      <td>False</td>\n",
       "    </tr>\n",
       "    <tr>\n",
       "      <th>8</th>\n",
       "      <td>9</td>\n",
       "      <td>Giordano</td>\n",
       "      <td>Elloy</td>\n",
       "      <td>Male</td>\n",
       "      <td>36</td>\n",
       "      <td>False</td>\n",
       "    </tr>\n",
       "    <tr>\n",
       "      <th>9</th>\n",
       "      <td>10</td>\n",
       "      <td>Rozele</td>\n",
       "      <td>Fawcett</td>\n",
       "      <td>Female</td>\n",
       "      <td>50</td>\n",
       "      <td>False</td>\n",
       "    </tr>\n",
       "  </tbody>\n",
       "</table>\n",
       "</div>"
      ],
      "text/plain": [
       "   id      first       last  gender  Marks  selected\n",
       "0   1      Leone    Debrick  Female     50      True\n",
       "1   2     Romola  Phinnessy  Female     60     False\n",
       "2   3       Geri      Prium    Male     65     False\n",
       "3   4      Sandy   Doveston  Female     95     False\n",
       "4   5    Jacenta     Jansik  Female     31      True\n",
       "5   6  Diane mar   Medhurst  Female     46      True\n",
       "6   7     Austen       Pool    Male     45      True\n",
       "7   8      Vanya    Teffrey    Male     70     False\n",
       "8   9   Giordano      Elloy    Male     36     False\n",
       "9  10     Rozele    Fawcett  Female     50     False"
      ]
     },
     "execution_count": 22,
     "metadata": {},
     "output_type": "execute_result"
    }
   ],
   "source": [
    "import pandas as pd\n",
    "#df=pd.read_csv(\"‪D:\\1CD22CS193\\program1.csv\")\n",
    "df=pd.read_csv(\"program1.csv\")\n",
    "#df=pd.read_excel(\"‪D:\\1CD22CS193\\program1.xlsx\")\n",
    "#df=pd.read_excel(\"program1.xlsx\")\n",
    "#df=pd.read_excel(\"program1.xlsx\",\"Sheet1\")\n",
    "#df=pd.read_excel(\"program1.xlsx\",\"Sheet2\")\n",
    "#df=pd.DataFrame(Student_Details)\n",
    "df"
   ]
  },
  {
   "cell_type": "code",
   "execution_count": 28,
   "id": "b3c55df6",
   "metadata": {},
   "outputs": [
    {
     "data": {
      "text/html": [
       "<div>\n",
       "<style scoped>\n",
       "    .dataframe tbody tr th:only-of-type {\n",
       "        vertical-align: middle;\n",
       "    }\n",
       "\n",
       "    .dataframe tbody tr th {\n",
       "        vertical-align: top;\n",
       "    }\n",
       "\n",
       "    .dataframe thead th {\n",
       "        text-align: right;\n",
       "    }\n",
       "</style>\n",
       "<table border=\"1\" class=\"dataframe\">\n",
       "  <thead>\n",
       "    <tr style=\"text-align: right;\">\n",
       "      <th></th>\n",
       "      <th>id</th>\n",
       "      <th>first</th>\n",
       "      <th>last</th>\n",
       "      <th>gender</th>\n",
       "      <th>Marks</th>\n",
       "      <th>selected</th>\n",
       "    </tr>\n",
       "  </thead>\n",
       "  <tbody>\n",
       "    <tr>\n",
       "      <th>1</th>\n",
       "      <td>2</td>\n",
       "      <td>Romola</td>\n",
       "      <td>Phinnessy</td>\n",
       "      <td>Female</td>\n",
       "      <td>60</td>\n",
       "      <td>False</td>\n",
       "    </tr>\n",
       "    <tr>\n",
       "      <th>2</th>\n",
       "      <td>3</td>\n",
       "      <td>Geri</td>\n",
       "      <td>Prium</td>\n",
       "      <td>Male</td>\n",
       "      <td>65</td>\n",
       "      <td>False</td>\n",
       "    </tr>\n",
       "    <tr>\n",
       "      <th>3</th>\n",
       "      <td>4</td>\n",
       "      <td>Sandy</td>\n",
       "      <td>Doveston</td>\n",
       "      <td>Female</td>\n",
       "      <td>95</td>\n",
       "      <td>False</td>\n",
       "    </tr>\n",
       "    <tr>\n",
       "      <th>7</th>\n",
       "      <td>8</td>\n",
       "      <td>Vanya</td>\n",
       "      <td>Teffrey</td>\n",
       "      <td>Male</td>\n",
       "      <td>70</td>\n",
       "      <td>False</td>\n",
       "    </tr>\n",
       "  </tbody>\n",
       "</table>\n",
       "</div>"
      ],
      "text/plain": [
       "   id   first       last  gender  Marks  selected\n",
       "1   2  Romola  Phinnessy  Female     60     False\n",
       "2   3    Geri      Prium    Male     65     False\n",
       "3   4   Sandy   Doveston  Female     95     False\n",
       "7   8   Vanya    Teffrey    Male     70     False"
      ]
     },
     "execution_count": 28,
     "metadata": {},
     "output_type": "execute_result"
    }
   ],
   "source": [
    "df.columns\n",
    "df[df['Marks']>50]"
   ]
  },
  {
   "cell_type": "code",
   "execution_count": 29,
   "id": "6d03a10b",
   "metadata": {},
   "outputs": [
    {
     "name": "stdout",
     "output_type": "stream",
     "text": [
      "{'first': ['Leone', 'Romola', 'Geri'], 'Marks': [50, 60, 65], 'selected': ['True', 'False', 'False']}\n"
     ]
    },
    {
     "data": {
      "text/plain": [
       "Index(['id', 'first', 'last', 'gender', 'Marks', 'selected'], dtype='object')"
      ]
     },
     "execution_count": 29,
     "metadata": {},
     "output_type": "execute_result"
    }
   ],
   "source": [
    "dictionary={\"first\":[\"Leone\",\"Romola\",\"Geri\"],\n",
    "           \"Marks\":[50,60,65],\n",
    "           \"selected\":[\"True\",\"False\",\"False\"]}\n",
    "print(dictionary)\n",
    "df.columns"
   ]
  },
  {
   "cell_type": "code",
   "execution_count": 34,
   "id": "81ad0b96",
   "metadata": {},
   "outputs": [
    {
     "data": {
      "text/plain": [
       "95"
      ]
     },
     "execution_count": 34,
     "metadata": {},
     "output_type": "execute_result"
    }
   ],
   "source": [
    "#df.Marks.max()\n",
    "df[\"Marks\"].max()"
   ]
  },
  {
   "cell_type": "code",
   "execution_count": 36,
   "id": "03da1064",
   "metadata": {},
   "outputs": [
    {
     "data": {
      "text/html": [
       "<div>\n",
       "<style scoped>\n",
       "    .dataframe tbody tr th:only-of-type {\n",
       "        vertical-align: middle;\n",
       "    }\n",
       "\n",
       "    .dataframe tbody tr th {\n",
       "        vertical-align: top;\n",
       "    }\n",
       "\n",
       "    .dataframe thead th {\n",
       "        text-align: right;\n",
       "    }\n",
       "</style>\n",
       "<table border=\"1\" class=\"dataframe\">\n",
       "  <thead>\n",
       "    <tr style=\"text-align: right;\">\n",
       "      <th></th>\n",
       "      <th>id</th>\n",
       "      <th>first</th>\n",
       "      <th>last</th>\n",
       "      <th>gender</th>\n",
       "      <th>Marks</th>\n",
       "      <th>selected</th>\n",
       "    </tr>\n",
       "  </thead>\n",
       "  <tbody>\n",
       "    <tr>\n",
       "      <th>3</th>\n",
       "      <td>4</td>\n",
       "      <td>Sandy</td>\n",
       "      <td>Doveston</td>\n",
       "      <td>Female</td>\n",
       "      <td>95</td>\n",
       "      <td>False</td>\n",
       "    </tr>\n",
       "  </tbody>\n",
       "</table>\n",
       "</div>"
      ],
      "text/plain": [
       "   id  first      last  gender  Marks  selected\n",
       "3   4  Sandy  Doveston  Female     95     False"
      ]
     },
     "execution_count": 36,
     "metadata": {},
     "output_type": "execute_result"
    }
   ],
   "source": [
    "df[df['Marks']==df['Marks'].max()]"
   ]
  },
  {
   "cell_type": "code",
   "execution_count": 45,
   "id": "ea3306e7",
   "metadata": {},
   "outputs": [
    {
     "name": "stdout",
     "output_type": "stream",
     "text": [
      "The Maximum marks of the list is 95\n",
      "The Maximum marks of the list is 95\n",
      "The Maximum marks of the list is    id  first      last  gender  Marks  selected\n",
      "3   4  Sandy  Doveston  Female     95     False\n"
     ]
    }
   ],
   "source": [
    "Max1=df['Marks'].max()\n",
    "print(\"The Maximum marks of the list is\",Max1)\n",
    "print(f\"The Maximum marks of the list is {Max1}\")\n",
    "Max2=df[df['Marks']==df['Marks'].max()]\n",
    "print(f\"The Maximum marks of the list is {Max2}\")"
   ]
  },
  {
   "cell_type": "code",
   "execution_count": 48,
   "id": "2772e65e",
   "metadata": {},
   "outputs": [
    {
     "name": "stdout",
     "output_type": "stream",
     "text": [
      "The Minimum of the marks is 31\n",
      "The Maximum of the marks is 95\n",
      "Number of Students : 10\n",
      "The Sum of all marks is 548\n",
      "The Mean of the marks is 54.8\n",
      "The Median of the marks is 50.0\n",
      "The Standard Deviation of the marks is 18.611824198610947\n",
      "The Variance of the marks is 346.40000000000003\n"
     ]
    }
   ],
   "source": [
    "min=df['Marks'].min()\n",
    "max=df['Marks'].max()\n",
    "count=df['first'].count()\n",
    "sum=df['Marks'].sum()\n",
    "mean=df['Marks'].mean()\n",
    "median=df['Marks'].median()\n",
    "std=df['Marks'].std()\n",
    "var=df['Marks'].var()\n",
    "print(\"The Minimum of the marks is\",min)\n",
    "print(\"The Maximum of the marks is\",max)\n",
    "print(\"Number of Students :\",count)\n",
    "print(\"The Sum of all marks is\",sum)\n",
    "print(\"The Mean of the marks is\",mean)\n",
    "print(\"The Median of the marks is\",median)\n",
    "print(\"The Standard Deviation of the marks is\",std)\n",
    "print(\"The Variance of the marks is\",var)"
   ]
  },
  {
   "cell_type": "code",
   "execution_count": null,
   "id": "56e4ffa3",
   "metadata": {},
   "outputs": [],
   "source": []
  }
 ],
 "metadata": {
  "kernelspec": {
   "display_name": "Python 3 (ipykernel)",
   "language": "python",
   "name": "python3"
  },
  "language_info": {
   "codemirror_mode": {
    "name": "ipython",
    "version": 3
   },
   "file_extension": ".py",
   "mimetype": "text/x-python",
   "name": "python",
   "nbconvert_exporter": "python",
   "pygments_lexer": "ipython3",
   "version": "3.9.12"
  }
 },
 "nbformat": 4,
 "nbformat_minor": 5
}
