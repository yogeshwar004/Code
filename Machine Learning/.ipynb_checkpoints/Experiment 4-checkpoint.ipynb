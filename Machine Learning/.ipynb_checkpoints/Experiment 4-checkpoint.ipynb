{
 "cells": [
  {
   "cell_type": "code",
   "execution_count": null,
   "id": "36919303-bc64-47a3-951e-78b5467767eb",
   "metadata": {},
   "outputs": [],
   "source": [
    "import numpy as np\n",
    "import panas"
   ]
  },
  {
   "cell_type": "code",
   "execution_count": null,
   "id": "da487e93-543c-4fad-bc4d-dbb57160ec88",
   "metadata": {},
   "outputs": [],
   "source": []
  },
  {
   "cell_type": "code",
   "execution_count": null,
   "id": "94eae132-9e12-49ac-bf7d-0ab6fbd08c4d",
   "metadata": {},
   "outputs": [],
   "source": []
  }
 ],
 "metadata": {
  "kernelspec": {
   "display_name": "Python [conda env:base] *",
   "language": "python",
   "name": "conda-base-py"
  },
  "language_info": {
   "codemirror_mode": {
    "name": "ipython",
    "version": 3
   },
   "file_extension": ".py",
   "mimetype": "text/x-python",
   "name": "python",
   "nbconvert_exporter": "python",
   "pygments_lexer": "ipython3",
   "version": "3.12.7"
  }
 },
 "nbformat": 4,
 "nbformat_minor": 5
}
